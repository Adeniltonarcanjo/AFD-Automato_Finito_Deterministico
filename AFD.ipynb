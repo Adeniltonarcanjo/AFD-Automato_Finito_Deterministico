{
 "cells": [
  {
   "cell_type": "markdown",
   "metadata": {},
   "source": [
    "Esse trabalho tem como implementação um algoritmo que simula um AFD (Autômato Finito Determinístico) onde sua entrada consiste respectivamente :\n",
    "- Estados do autômato separados por um espaço: Ex: 0 1 \n",
    "- Os caracteres referentes ao alfabeto separados por um espaço: Ex: a b\n",
    "- A quantidade de transições presente no autômato:  Ex: 3\n",
    "- O estado atual o caractere a ser consumido e o estado de destino presentes <o,c,d>\n",
    "ex: 0 a 1 \n",
    "    1 a 1\n",
    "    1 b 1\n",
    "- Os estados Iniciais. Ex: 0\n",
    "- Os estados Finais. Ex: 1\n",
    "- O conjunto de palavras a ser verificada pelo autômato, separados por um espaço entre elas Ex: a aaa ababa bbbba ababa b\n",
    "\n",
    "A saída do sistema é indicado um N para caso a palavra não seja reconhecida e S caso ela seja reconhecida \n",
    "ex:\n",
    "\n",
    "S\n",
    "S\n",
    "S\n",
    "N\n",
    "S\n",
    "\n"
   ]
  },
  {
   "cell_type": "markdown",
   "metadata": {},
   "source": [
    "Nessa parte do algoritmo estão declaradas as variáveis que serão usadas ao decorrer do algoritmo, aqui são inseridos como entrada os estados, os caracteres e a quantidade de transição do autômato. "
   ]
  },
  {
   "cell_type": "code",
   "execution_count": null,
   "metadata": {},
   "outputs": [],
   "source": [
    "        HashMap<String, String> dicionario= new HashMap <>();\n",
    "        HashMap<String, Integer> finais= new HashMap <>();\n",
    "        \n",
    "        Scanner e= new Scanner (System.in);\n",
    "         \n",
    "        String[]  ocd;\n",
    "        String tripla;\n",
    "        String estados;\n",
    "        String alfabeto;\n",
    "        String estado_inicial;\n",
    "        String estado_final;\n",
    "        String[] estados_finais;\n",
    "        String[] palavras;\n",
    "        String estado_atual;\n",
    "        int t,z,y=0, n;\n",
    "        boolean contem;\n",
    "        estados=e.nextLine();\n",
    "        alfabeto=e.nextLine();\n",
    "        t=Integer.parseInt(e.nextLine());"
   ]
  },
  {
   "cell_type": "markdown",
   "metadata": {},
   "source": [
    "Nessa parte do código  tem como entrada  <o,c,d>  referentes ao estado de origem, o caractere a ser consumido e o estado de destino, esses valores estão sendo armazenados em uma HashMap chamada dicionario e são inseridos de acordo a quantidade de transições que o autômato possui. "
   ]
  },
  {
   "cell_type": "code",
   "execution_count": null,
   "metadata": {},
   "outputs": [],
   "source": [
    "while(y<t){\n",
    "        z=0;            \n",
    "        tripla=e.nextLine();\n",
    "        ocd=tripla.split(\" \");\n",
    "        dicionario.put(ocd[z].concat(ocd[z+1]), ocd[z+2]);\n",
    "        \n",
    "            y++;\n",
    "        }\n",
    "  "
   ]
  },
  {
   "cell_type": "markdown",
   "metadata": {},
   "source": [
    "Essa parte do código é referente a entrada do estado inicial, dos estados finais, e das palavras a serem consumidas pelo autômato, os estados finais também é colocado em uma HashMap com nomes finais. "
   ]
  },
  {
   "cell_type": "code",
   "execution_count": null,
   "metadata": {},
   "outputs": [],
   "source": [
    " estado_inicial=e.nextLine();\n",
    "       estado_final=e.nextLine();\n",
    "       estados_finais=estado_final.split(\" \");\n",
    "       \n",
    "       for(int i=0;i<estados_finais.length;i++){\n",
    "           finais.put(estados_finais[i], i);\n",
    "       }\n",
    "           \n",
    "      String palavra;\n",
    "\n",
    " palavra=e.nextLine();\n",
    " palavras=palavra.split(\" \");"
   ]
  },
  {
   "cell_type": "markdown",
   "metadata": {},
   "source": [
    "Nessa parte do código é feita a verificação da palavra, onde o algoritimo tem sua complexidade O(n) percorrendo caractere por caractere até terminar a palavra, n será o tamanho da palavra. Quando o algoritimo termina a palavra, ele verifica se aquele estado  está no hasmap de estados finais, onde a complexidade é O(1). Tanto a a busca do estado final como a busca do estado atual com o caractere possui a complexidade O(1). "
   ]
  },
  {
   "cell_type": "code",
   "execution_count": null,
   "metadata": {},
   "outputs": [],
   "source": [
    "for(int j=0;j<palavras.length;j++){  // esse for é apenas para pegar a palavra \n",
    " estado_atual=estado_inicial;  \n",
    " contem=true;\n",
    " n=palavras[j].length();\n",
    "//  aqui onde confere se a palavra faz parte do automato  --------------------------------------------------------------------\n",
    " for(int i=0;i<n;i++){\n",
    "     estado_atual=estado_atual.concat(palavras[j].substring(i, i+1));\n",
    "     \n",
    "     if (dicionario.containsKey(estado_atual)){  // custo o(1) ultiliza a tabela map do dicionario para verificar \n",
    "       \n",
    "         estado_atual=(String)dicionario.get(estado_atual);\n",
    "         }else {\n",
    "       \n",
    "             contem=false;\n",
    "         \n",
    "             }\n",
    "       \n",
    "           }\n",
    "     if(finais.containsKey(estado_atual) &&( contem=true)){ // custo O(1) ultiliza a tabela map com os valores finais  para verificar\n",
    "     System.out.println(\"S\");\n",
    "     \n",
    "   }else {\n",
    "          System.out.println(\"N\");\n",
    "     }\n",
    "          \n",
    " }\n"
   ]
  },
  {
   "cell_type": "code",
   "execution_count": null,
   "metadata": {},
   "outputs": [],
   "source": []
  }
 ],
 "metadata": {
  "kernelspec": {
   "display_name": "Java",
   "language": "java",
   "name": "java"
  },
  "language_info": {
   "codemirror_mode": "java",
   "file_extension": ".java",
   "mimetype": "text/x-java-source",
   "name": "Java",
   "pygments_lexer": "java",
   "version": "10.0.1+10-Debian-4"
  }
 },
 "nbformat": 4,
 "nbformat_minor": 4
}
